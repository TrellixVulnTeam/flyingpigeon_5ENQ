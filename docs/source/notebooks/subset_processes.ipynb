{
 "cells": [
  {
   "cell_type": "markdown",
   "metadata": {},
   "source": [
    "# Subset processes\n",
    "\n",
    "The WPS flyingpigeon provides several processes to perform spatial subsets of netCDF files: \n",
    "\n",
    "- **subset_bbox**: Crop netCDF files to a given latitude longitude bounding box. \n",
    "- **subset_countries**: Crop netCDF files to only the intersection of predefined countries.\n",
    "- **subset_continents**: Crop netCDF files to only the intersection of predefined continents.\n",
    "- **subset_wfs_polygon**: Crop netCDF files to only the intersection of given polygons available on a given WFS server. \n",
    "\n",
    "Note that subsetting operations do not average or reduce results over the selected area, they only return the grid sells intersecting with the area. A mask is applied to cells that are outside the selected area, but inside the rectangular grid required for netCDF files.  \n"
   ]
  },
  {
   "cell_type": "code",
   "execution_count": 1,
   "metadata": {},
   "outputs": [],
   "source": [
    "# Import the WPS client and connect to the server\n",
    "from birdy import WPSClient\n",
    "import birdy \n",
    "from os import environ\n",
    "\n",
    "# To display Images from an url\n",
    "from IPython.core.display import HTML \n",
    "from IPython.display import Image\n",
    "\n",
    "# wait until WPS process is finished\n",
    "import time"
   ]
  },
  {
   "cell_type": "code",
   "execution_count": 2,
   "metadata": {},
   "outputs": [
    {
     "name": "stdout",
     "output_type": "stream",
     "text": [
      "http://localhost:8093\n"
     ]
    }
   ],
   "source": [
    "# This cell is for server admnistration test purpose\n",
    "# Ignore this cell and modify the following cell according to your needs\n",
    "\n",
    "fp_server = environ.get('WPS_URL')\n",
    "print(fp_server)  # link to the flyingpigoen server"
   ]
  },
  {
   "cell_type": "code",
   "execution_count": 3,
   "metadata": {},
   "outputs": [],
   "source": [
    "# URL to a flyingpigeon server\n",
    "# fp_server = 'https://pavics.ouranos.ca/twitcher/ows/proxy/flyginpigeon/wps'"
   ]
  },
  {
   "cell_type": "markdown",
   "metadata": {},
   "source": [
    "**Connect to the server with birdy client**"
   ]
  },
  {
   "cell_type": "code",
   "execution_count": 4,
   "metadata": {},
   "outputs": [],
   "source": [
    "# Simple connection (not recommended for larger processing)\n",
    "fp = WPSClient(fp_server)\n",
    "# Asyncronous connection with progess status requests\n",
    "fp_i = WPSClient(url=fp_server, progress=True)"
   ]
  },
  {
   "cell_type": "markdown",
   "metadata": {},
   "source": [
    "**Explore the available processes:** "
   ]
  },
  {
   "cell_type": "code",
   "execution_count": 5,
   "metadata": {},
   "outputs": [
    {
     "name": "stdout",
     "output_type": "stream",
     "text": [
      "Help on method subset_continents in module birdy.client.base:\n",
      "\n",
      "subset_continents(resource=None, region='Africa') method of birdy.client.base.WPSClient instance\n",
      "    Return the data whose grid cells intersect the selected continents for each input dataset.\n",
      "    \n",
      "    Parameters\n",
      "    ----------\n",
      "    region : {'Africa', 'Asia', 'Australia', 'North America', 'Oceania', 'South America', 'Antarctica', 'Europe'}string\n",
      "        Continent name.\n",
      "    resource : ComplexData:mimetype:`application/x-netcdf`, :mimetype:`application/x-tar`, :mimetype:`application/zip`\n",
      "        NetCDF Files or archive (tar/zip) containing netCDF files.\n",
      "    \n",
      "    Returns\n",
      "    -------\n",
      "    output : ComplexData:mimetype:`application/x-netcdf`\n",
      "        NetCDF output for first resource file.\n",
      "    metalink : ComplexData:mimetype:`application/metalink+xml; version=4.0`\n",
      "        Metalink file with links to all NetCDF outputs.\n",
      "\n"
     ]
    }
   ],
   "source": [
    "# Enter `fp?` for general exploration on processes provided by flyingpigeon\n",
    "# fp?\n",
    "\n",
    "# Or get help for a process in particular\n",
    "help(fp.subset_continents) # or type: fp.subset_countries?"
   ]
  },
  {
   "cell_type": "code",
   "execution_count": 6,
   "metadata": {},
   "outputs": [],
   "source": [
    "# some test data \n",
    "\n",
    "# 'https://github.com/roocs/mini-esgf-data/raw/master/test_data/group_workspaces/jasmin2/cp4cds1/data/c3s-cordex/output/EUR-11/IPSL/MOHC-HadGEM2-ES/rcp85/r1i1p1/IPSL-WRF381P/v1/day/psl/v20190212/'\n",
    "# 'psl_EUR-11_MOHC-HadGEM2-ES_rcp85_r1i1p1_IPSL-WRF381P_v1_day_20060101-20101231.nc'\n",
    "\n",
    "\n",
    "# Specify input files\n",
    "base_url = 'https://www.esrl.noaa.gov/psd/thredds/fileServer/Datasets/ncep.reanalysis.dailyavgs/surface/'\n",
    "urls = [base_url + f'slp.{year}.nc' for year in range(2000, 2002)]"
   ]
  },
  {
   "cell_type": "markdown",
   "metadata": {},
   "source": [
    "## Subset over a bounding box \n",
    "\n",
    "Note that all netCDF input files will be subsetted individually. "
   ]
  },
  {
   "cell_type": "code",
   "execution_count": 7,
   "metadata": {},
   "outputs": [],
   "source": [
    "# bbox subset of one file without interaction to the server\n",
    "\n",
    "resp = fp.subset_bbox(\n",
    "            resource=urls[0], # can be also a list of files but it is recommended to run large processes with fp_i\n",
    "            lon0=20,\n",
    "            lon1=70,\n",
    "            lat0=10,\n",
    "            lat1=50,\n",
    "            start=None,     # optional to select a time periode\n",
    "            end=None,\n",
    "            variable=None,  # can be set if the variable is known, otherwise the process detects the variable name \n",
    "            )\n",
    "\n",
    "# Check the output files:\n",
    "bbox = resp.get()"
   ]
  },
  {
   "cell_type": "code",
   "execution_count": 8,
   "metadata": {},
   "outputs": [
    {
     "data": {
      "application/vnd.jupyter.widget-view+json": {
       "model_id": "8ad9cea3d9cb4e4eb619a7a03432497e",
       "version_major": 2,
       "version_minor": 0
      },
      "text/plain": [
       "HBox(children=(IntProgress(value=0, bar_style='info', description='Processing:'), Button(button_style='danger'…"
      ]
     },
     "metadata": {},
     "output_type": "display_data"
    }
   ],
   "source": [
    "# bbox of multiple files \n",
    "\n",
    "resp = fp_i.subset_bbox(\n",
    "            resource=urls, \n",
    "            lon0=20,\n",
    "            lon1=70,\n",
    "            lat0=10,\n",
    "            lat1=50,\n",
    "            start=None,     # optional to select a time periode\n",
    "            end=None,\n",
    "            variable=None,  # can be set if the variable is known, otherwise the process detects the variable name \n",
    "            )\n",
    "\n",
    "# using fp_i you need to wait until the processing is complete!\n",
    "\n",
    "timeout = time.time() + 60*5   # 5 minutes from now\n",
    "\n",
    "while resp.getStatus() != 'ProcessSucceeded': \n",
    "    time.sleep(1)\n",
    "    if time.time() > timeout:  # to avoid endless waiting if the process failed\n",
    "        break\n",
    "\n",
    "# Get the output files:\n",
    "bbox = resp.get()"
   ]
  },
  {
   "cell_type": "code",
   "execution_count": 9,
   "metadata": {},
   "outputs": [
    {
     "data": {
      "text/html": [
       "<img src=\"http://localhost:8093/outputs/fdc72ec2-92c0-11ea-ba02-9cb6d08a53e7/tmpbulqokev.png\" width=\"400\"/>"
      ],
      "text/plain": [
       "<IPython.core.display.Image object>"
      ]
     },
     "execution_count": 9,
     "metadata": {},
     "output_type": "execute_result"
    }
   ],
   "source": [
    "# Plot the test file with the flyingpigeon plot function \n",
    "out_plot = fp.plot_map_timemean(resource=bbox.output)\n",
    "\n",
    "# and display the output\n",
    "Image(url= out_plot.get()[0], width=400)"
   ]
  },
  {
   "cell_type": "code",
   "execution_count": 11,
   "metadata": {},
   "outputs": [
    {
     "name": "stdout",
     "output_type": "stream",
     "text": [
      "Metalink content-type detected.\n",
      "Downloading to /tmp/tmp71aty5re/slp.2000_bbox_subset.nc.\n",
      "Downloading to /tmp/tmp71aty5re/slp.2001_bbox_subset.nc.\n"
     ]
    },
    {
     "data": {
      "text/plain": [
       "2"
      ]
     },
     "execution_count": 11,
     "metadata": {},
     "output_type": "execute_result"
    }
   ],
   "source": [
    "# If you want to download the result files: \n",
    "\n",
    "# Download files stored in a metalink\n",
    "# requires https://github.com/metalink-dev/pymetalink\n",
    "#\n",
    "from metalink import download\n",
    "import tempfile\n",
    "\n",
    "\n",
    "path = tempfile.mkdtemp()\n",
    "files = download.get(bbox.metalink, path=path, segmented=False, force=True)\n",
    "len(files)"
   ]
  },
  {
   "cell_type": "markdown",
   "metadata": {},
   "source": [
    "## Subset over a continent\n",
    "\n",
    "As for bounding box subsetting, all netCDF input files are subsetted individually. Here, it is possible to specifiy one or multiple continents. If `mosaic` is `True`, all continents are merged into one shape before subsetting. If `False`, each input file is subsetted over each polygon, such that the number of output files is the number of input files times the number of continents.  \n",
    "\n",
    "The `subset_countries` process works the same with polygons for countries instead of continents. \n",
    "\n",
    "There are two outputs: \n",
    "* a netCDF file to have a quick test to check if the process went according to the users needs\n",
    "* a metalink file with the list of all output files"
   ]
  },
  {
   "cell_type": "code",
   "execution_count": null,
   "metadata": {},
   "outputs": [
    {
     "data": {
      "application/vnd.jupyter.widget-view+json": {
       "model_id": "dce34d71ff3b404ca29bdbfcb17a84ec",
       "version_major": 2,
       "version_minor": 0
      },
      "text/plain": [
       "HBox(children=(IntProgress(value=0, bar_style='info', description='Processing:'), Button(button_style='danger'…"
      ]
     },
     "metadata": {},
     "output_type": "display_data"
    }
   ],
   "source": [
    "# Run the process\n",
    "resp = fp_i.subset_continents(resource=urls, region=['Europe', 'Africa'])\n",
    "\n",
    "# using fp_i you need to wait until the processing is complete!\n",
    "timeout = time.time() + 60*5   # 5 minutes from now\n",
    "\n",
    "while resp.getStatus() != 'ProcessSucceeded': \n",
    "    time.sleep(1)\n",
    "    if time.time() > timeout:  # to avoid endless waiting if the process failed\n",
    "        break\n",
    "\n",
    "# Check the output files:\n",
    "cont = resp.get()\n",
    "\n"
   ]
  },
  {
   "cell_type": "code",
   "execution_count": null,
   "metadata": {},
   "outputs": [],
   "source": [
    "# plot the test file (url of output) with the flyingpigon plot function \n",
    "resp = fp.plot_map_timemean(resource=cont.output)\n"
   ]
  },
  {
   "cell_type": "code",
   "execution_count": null,
   "metadata": {},
   "outputs": [],
   "source": [
    "# The plot process returnes one graphic file. \n",
    "# It can be plotted directly by asking birdy to get python objects, instead of links to files.\n",
    "resp.get(asobj=True).plotout_map"
   ]
  },
  {
   "cell_type": "markdown",
   "metadata": {},
   "source": [
    "## Subset with WFS server "
   ]
  },
  {
   "cell_type": "code",
   "execution_count": 16,
   "metadata": {},
   "outputs": [],
   "source": [
    "\n",
    "inputs = dict(nc=\"https://pavics.ouranos.ca/twitcher/ows/proxy/thredds/dodsC/birdhouse/nrcan\"\n",
    "                     \"/nrcan_northamerica_monthly\"\n",
    "                     \"/tasmax/nrcan_northamerica_monthly_2015_tasmax.nc\",\n",
    "                  typename=\"public:USGS_HydroBASINS_lake_na_lev12\",\n",
    "                  geoserver=\"https://pavics.ouranos.ca/geoserver/wfs\",\n",
    "                  fid1=\"USGS_HydroBASINS_lake_na_lev12.67061\",\n",
    "                  fid2=\"USGS_HydroBASINS_lake_na_lev12.67088\",\n",
    "                  )\n",
    "\n",
    "# resp =  fp_i.subset_wfs_polygon(resource=inputs['nc'],\n",
    "#                                 typename=inputs['typename'],\n",
    "#                                 featureids=inputs['fid1'],\n",
    "#                                 geoserver=inputs['geoserver'],\n",
    "#                                 mosaic=False,\n",
    "#                                 start=None,\n",
    "#                                 end=None,\n",
    "#                                 variable=None,\n",
    "#                                 )\n"
   ]
  },
  {
   "cell_type": "code",
   "execution_count": 17,
   "metadata": {},
   "outputs": [],
   "source": [
    "# # using fp_i you need to wait until the processing is complete!\n",
    "# timeout = time.time() + 60*5   # 5 minutes from now\n",
    "\n",
    "# while resp.getStatus() != 'ProcessSucceeded': \n",
    "#     time.sleep(1)\n",
    "#     if time.time() > timeout:  # to avoid endless waiting if the process failed\n",
    "#         break\n",
    "\n",
    "# outputs = resp.get()"
   ]
  },
  {
   "cell_type": "code",
   "execution_count": null,
   "metadata": {},
   "outputs": [],
   "source": []
  }
 ],
 "metadata": {
  "kernelspec": {
   "display_name": "Python 3",
   "language": "python",
   "name": "python3"
  },
  "language_info": {
   "codemirror_mode": {
    "name": "ipython",
    "version": 3
   },
   "file_extension": ".py",
   "mimetype": "text/x-python",
   "name": "python",
   "nbconvert_exporter": "python",
   "pygments_lexer": "ipython3",
   "version": "3.7.6"
  }
 },
 "nbformat": 4,
 "nbformat_minor": 2
}
